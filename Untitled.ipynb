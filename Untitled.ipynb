{
 "cells": [
  {
   "cell_type": "code",
   "execution_count": 4,
   "id": "a76ab48e",
   "metadata": {},
   "outputs": [],
   "source": [
    "import pandas as pd\n",
    "import matplotlib.pyplot as plt"
   ]
  },
  {
   "cell_type": "code",
   "execution_count": 2,
   "id": "dd493225",
   "metadata": {},
   "outputs": [
    {
     "data": {
      "text/html": [
       "<div>\n",
       "<style scoped>\n",
       "    .dataframe tbody tr th:only-of-type {\n",
       "        vertical-align: middle;\n",
       "    }\n",
       "\n",
       "    .dataframe tbody tr th {\n",
       "        vertical-align: top;\n",
       "    }\n",
       "\n",
       "    .dataframe thead th {\n",
       "        text-align: right;\n",
       "    }\n",
       "</style>\n",
       "<table border=\"1\" class=\"dataframe\">\n",
       "  <thead>\n",
       "    <tr style=\"text-align: right;\">\n",
       "      <th></th>\n",
       "      <th>Date</th>\n",
       "      <th>Open</th>\n",
       "      <th>High</th>\n",
       "      <th>Low</th>\n",
       "      <th>Close</th>\n",
       "      <th>Volume</th>\n",
       "      <th>Dividends</th>\n",
       "      <th>Stock Splits</th>\n",
       "    </tr>\n",
       "  </thead>\n",
       "  <tbody>\n",
       "    <tr>\n",
       "      <th>0</th>\n",
       "      <td>2021-04-06</td>\n",
       "      <td>308.839996</td>\n",
       "      <td>311.350006</td>\n",
       "      <td>305.250000</td>\n",
       "      <td>306.260010</td>\n",
       "      <td>17335200</td>\n",
       "      <td>0</td>\n",
       "      <td>0</td>\n",
       "    </tr>\n",
       "    <tr>\n",
       "      <th>1</th>\n",
       "      <td>2021-04-07</td>\n",
       "      <td>306.339996</td>\n",
       "      <td>314.250000</td>\n",
       "      <td>305.500000</td>\n",
       "      <td>313.089996</td>\n",
       "      <td>22855200</td>\n",
       "      <td>0</td>\n",
       "      <td>0</td>\n",
       "    </tr>\n",
       "    <tr>\n",
       "      <th>2</th>\n",
       "      <td>2021-04-08</td>\n",
       "      <td>314.850006</td>\n",
       "      <td>315.880005</td>\n",
       "      <td>310.049988</td>\n",
       "      <td>313.019989</td>\n",
       "      <td>20894100</td>\n",
       "      <td>0</td>\n",
       "      <td>0</td>\n",
       "    </tr>\n",
       "    <tr>\n",
       "      <th>3</th>\n",
       "      <td>2021-04-09</td>\n",
       "      <td>311.399994</td>\n",
       "      <td>314.739990</td>\n",
       "      <td>310.329987</td>\n",
       "      <td>312.459991</td>\n",
       "      <td>15988600</td>\n",
       "      <td>0</td>\n",
       "      <td>0</td>\n",
       "    </tr>\n",
       "    <tr>\n",
       "      <th>4</th>\n",
       "      <td>2021-04-12</td>\n",
       "      <td>311.049988</td>\n",
       "      <td>312.149994</td>\n",
       "      <td>307.929993</td>\n",
       "      <td>311.540009</td>\n",
       "      <td>10881900</td>\n",
       "      <td>0</td>\n",
       "      <td>0</td>\n",
       "    </tr>\n",
       "    <tr>\n",
       "      <th>5</th>\n",
       "      <td>2021-04-13</td>\n",
       "      <td>312.209991</td>\n",
       "      <td>314.429993</td>\n",
       "      <td>309.320007</td>\n",
       "      <td>309.760010</td>\n",
       "      <td>14036900</td>\n",
       "      <td>0</td>\n",
       "      <td>0</td>\n",
       "    </tr>\n",
       "    <tr>\n",
       "      <th>6</th>\n",
       "      <td>2021-04-14</td>\n",
       "      <td>307.299988</td>\n",
       "      <td>308.029999</td>\n",
       "      <td>301.950012</td>\n",
       "      <td>302.820007</td>\n",
       "      <td>17421400</td>\n",
       "      <td>0</td>\n",
       "      <td>0</td>\n",
       "    </tr>\n",
       "    <tr>\n",
       "      <th>7</th>\n",
       "      <td>2021-04-15</td>\n",
       "      <td>306.339996</td>\n",
       "      <td>310.140015</td>\n",
       "      <td>304.100006</td>\n",
       "      <td>307.820007</td>\n",
       "      <td>14558300</td>\n",
       "      <td>0</td>\n",
       "      <td>0</td>\n",
       "    </tr>\n",
       "    <tr>\n",
       "      <th>8</th>\n",
       "      <td>2021-04-16</td>\n",
       "      <td>308.170013</td>\n",
       "      <td>308.950012</td>\n",
       "      <td>304.609985</td>\n",
       "      <td>306.179993</td>\n",
       "      <td>13059200</td>\n",
       "      <td>0</td>\n",
       "      <td>0</td>\n",
       "    </tr>\n",
       "    <tr>\n",
       "      <th>9</th>\n",
       "      <td>2021-04-19</td>\n",
       "      <td>305.010010</td>\n",
       "      <td>307.700012</td>\n",
       "      <td>300.559998</td>\n",
       "      <td>302.239990</td>\n",
       "      <td>14553500</td>\n",
       "      <td>0</td>\n",
       "      <td>0</td>\n",
       "    </tr>\n",
       "  </tbody>\n",
       "</table>\n",
       "</div>"
      ],
      "text/plain": [
       "         Date        Open        High         Low       Close    Volume  \\\n",
       "0  2021-04-06  308.839996  311.350006  305.250000  306.260010  17335200   \n",
       "1  2021-04-07  306.339996  314.250000  305.500000  313.089996  22855200   \n",
       "2  2021-04-08  314.850006  315.880005  310.049988  313.019989  20894100   \n",
       "3  2021-04-09  311.399994  314.739990  310.329987  312.459991  15988600   \n",
       "4  2021-04-12  311.049988  312.149994  307.929993  311.540009  10881900   \n",
       "5  2021-04-13  312.209991  314.429993  309.320007  309.760010  14036900   \n",
       "6  2021-04-14  307.299988  308.029999  301.950012  302.820007  17421400   \n",
       "7  2021-04-15  306.339996  310.140015  304.100006  307.820007  14558300   \n",
       "8  2021-04-16  308.170013  308.950012  304.609985  306.179993  13059200   \n",
       "9  2021-04-19  305.010010  307.700012  300.559998  302.239990  14553500   \n",
       "\n",
       "   Dividends  Stock Splits  \n",
       "0          0             0  \n",
       "1          0             0  \n",
       "2          0             0  \n",
       "3          0             0  \n",
       "4          0             0  \n",
       "5          0             0  \n",
       "6          0             0  \n",
       "7          0             0  \n",
       "8          0             0  \n",
       "9          0             0  "
      ]
     },
     "execution_count": 2,
     "metadata": {},
     "output_type": "execute_result"
    }
   ],
   "source": [
    "df = pd.read_csv(\"data.csv\", sep=\",\")\n",
    "df.head(10)"
   ]
  },
  {
   "cell_type": "code",
   "execution_count": 7,
   "id": "44d517e5",
   "metadata": {},
   "outputs": [
    {
     "data": {
      "text/plain": [
       "[<matplotlib.lines.Line2D at 0x1c1cb90b6a0>]"
      ]
     },
     "execution_count": 7,
     "metadata": {},
     "output_type": "execute_result"
    },
    {
     "data": {
      "image/png": "[encoded data removed]",
      "text/plain": [
       "<Figure size 432x288 with 1 Axes>"
      ]
     },
     "metadata": {
      "needs_background": "light"
     },
     "output_type": "display_data"
    }
   ],
   "source": [
    "plt.title('Facebook 1 year stock')\n",
    "plt.plot(df['Date'], df['Close'])"
   ]
  },
  {
   "cell_type": "code",
   "execution_count": null,
   "id": "f93f7f3e",
   "metadata": {},
   "outputs": [],
   "source": []
  }
 ],
 "metadata": {
  "kernelspec": {
   "display_name": "Python 3 (ipykernel)",
   "language": "python",
   "name": "python3"
  },
  "language_info": {
   "codemirror_mode": {
    "name": "ipython",
    "version": 3
   },
   "file_extension": ".py",
   "mimetype": "text/x-python",
   "name": "python",
   "nbconvert_exporter": "python",
   "pygments_lexer": "ipython3",
   "version": "3.10.2"
  }
 },
 "nbformat": 4,
 "nbformat_minor": 5
}
